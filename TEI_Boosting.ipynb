{
 "cells": [
  {
   "cell_type": "markdown",
   "metadata": {},
   "source": [
    "# CS4662 \n",
    "## Group Project: Twitter Emotion Identification\n",
    "### Instructor: Dr. Mohammad Porhomayoun\n",
    "\n",
    "### Daniel Preciado\n",
    "\n",
    "Spring 2020"
   ]
  },
  {
   "cell_type": "code",
   "execution_count": 1,
   "metadata": {},
   "outputs": [],
   "source": [
    "# import modules\n",
    "import json\n",
    "import pandas as pd\n",
    "import numpy as np\n",
    "from sklearn.metrics import accuracy_score"
   ]
  },
  {
   "cell_type": "code",
   "execution_count": 2,
   "metadata": {},
   "outputs": [],
   "source": [
    "\n",
    "json_list = ['anger', 'fear', 'greed', 'hateful', 'joy', 'sadness']\n",
    "\n",
    "all_list = []\n",
    "\n",
    "for name in json_list:\n",
    "    # load json data as a list of strings\n",
    "    with open('raw_data/'+ name + '.json') as my_file:\n",
    "        anger = json.load(my_file)\n",
    "        \n",
    "        # turn list to a list of tuples and append to all_list  \n",
    "        for i in anger:\n",
    "            all_list.append((i, name))\n",
    "  "
   ]
  },
  {
   "cell_type": "code",
   "execution_count": 3,
   "metadata": {},
   "outputs": [
    {
     "data": {
      "text/plain": [
       "('Sad thing is sheep will buy into this POS https://t.co/hpeo1CSC70',\n",
       " 'sadness')"
      ]
     },
     "execution_count": 3,
     "metadata": {},
     "output_type": "execute_result"
    }
   ],
   "source": [
    "all_list[-1]"
   ]
  },
  {
   "cell_type": "code",
   "execution_count": 4,
   "metadata": {},
   "outputs": [],
   "source": [
    "# df = pd.DataFrame(np.array(list).reshape(-1,2), columns = [\"comment\", \"emotion\"])\n",
    "df = pd.DataFrame(all_list, columns=['comment', 'label'])"
   ]
  },
  {
   "cell_type": "code",
   "execution_count": 5,
   "metadata": {},
   "outputs": [],
   "source": [
    "# randomize the items inside dataframe\n",
    "df = df.sample(frac=1).reset_index(drop=True)\n"
   ]
  },
  {
   "cell_type": "code",
   "execution_count": 6,
   "metadata": {},
   "outputs": [
    {
     "data": {
      "text/html": [
       "<div>\n",
       "<style scoped>\n",
       "    .dataframe tbody tr th:only-of-type {\n",
       "        vertical-align: middle;\n",
       "    }\n",
       "\n",
       "    .dataframe tbody tr th {\n",
       "        vertical-align: top;\n",
       "    }\n",
       "\n",
       "    .dataframe thead th {\n",
       "        text-align: right;\n",
       "    }\n",
       "</style>\n",
       "<table border=\"1\" class=\"dataframe\">\n",
       "  <thead>\n",
       "    <tr style=\"text-align: right;\">\n",
       "      <th></th>\n",
       "      <th>comment</th>\n",
       "      <th>label</th>\n",
       "    </tr>\n",
       "  </thead>\n",
       "  <tbody>\n",
       "    <tr>\n",
       "      <th>0</th>\n",
       "      <td>RT @GlobalChamSIN: The global forum #Blockchai...</td>\n",
       "      <td>greed</td>\n",
       "    </tr>\n",
       "    <tr>\n",
       "      <th>1</th>\n",
       "      <td>@adams214 ur a dick adam sandham. Hope your ha...</td>\n",
       "      <td>joy</td>\n",
       "    </tr>\n",
       "    <tr>\n",
       "      <th>2</th>\n",
       "      <td>Director, Data &amp;amp; Analytics Strategy - NYA ...</td>\n",
       "      <td>greed</td>\n",
       "    </tr>\n",
       "    <tr>\n",
       "      <th>3</th>\n",
       "      <td>@CryptoCobain I might be missing something but...</td>\n",
       "      <td>fear</td>\n",
       "    </tr>\n",
       "    <tr>\n",
       "      <th>4</th>\n",
       "      <td>Trade bitcoin mining and cryptocurrency and ma...</td>\n",
       "      <td>greed</td>\n",
       "    </tr>\n",
       "    <tr>\n",
       "      <th>...</th>\n",
       "      <td>...</td>\n",
       "      <td>...</td>\n",
       "    </tr>\n",
       "    <tr>\n",
       "      <th>328357</th>\n",
       "      <td>Bitcoin Price Jumps to 4-Month High Above $4,9...</td>\n",
       "      <td>greed</td>\n",
       "    </tr>\n",
       "    <tr>\n",
       "      <th>328358</th>\n",
       "      <td>Earning #cryptocurrency for selling my stuff o...</td>\n",
       "      <td>fear</td>\n",
       "    </tr>\n",
       "    <tr>\n",
       "      <th>328359</th>\n",
       "      <td>Pump result: #PIVX\\n\\n Start Price: 545\\n We'...</td>\n",
       "      <td>greed</td>\n",
       "    </tr>\n",
       "    <tr>\n",
       "      <th>328360</th>\n",
       "      <td>Find more on #cancer https://t.co/5btZEGTnFz  ...</td>\n",
       "      <td>greed</td>\n",
       "    </tr>\n",
       "    <tr>\n",
       "      <th>328361</th>\n",
       "      <td>RT @AIRCOINS_App: We are excited to announce t...</td>\n",
       "      <td>greed</td>\n",
       "    </tr>\n",
       "  </tbody>\n",
       "</table>\n",
       "<p>328362 rows × 2 columns</p>\n",
       "</div>"
      ],
      "text/plain": [
       "                                                  comment  label\n",
       "0       RT @GlobalChamSIN: The global forum #Blockchai...  greed\n",
       "1       @adams214 ur a dick adam sandham. Hope your ha...    joy\n",
       "2       Director, Data &amp; Analytics Strategy - NYA ...  greed\n",
       "3       @CryptoCobain I might be missing something but...   fear\n",
       "4       Trade bitcoin mining and cryptocurrency and ma...  greed\n",
       "...                                                   ...    ...\n",
       "328357  Bitcoin Price Jumps to 4-Month High Above $4,9...  greed\n",
       "328358  Earning #cryptocurrency for selling my stuff o...   fear\n",
       "328359   Pump result: #PIVX\\n\\n Start Price: 545\\n We'...  greed\n",
       "328360  Find more on #cancer https://t.co/5btZEGTnFz  ...  greed\n",
       "328361  RT @AIRCOINS_App: We are excited to announce t...  greed\n",
       "\n",
       "[328362 rows x 2 columns]"
      ]
     },
     "execution_count": 6,
     "metadata": {},
     "output_type": "execute_result"
    }
   ],
   "source": [
    "df"
   ]
  },
  {
   "cell_type": "code",
   "execution_count": 7,
   "metadata": {},
   "outputs": [
    {
     "data": {
      "text/plain": [
       "greed      200177\n",
       "joy         54565\n",
       "fear        50053\n",
       "hateful     10206\n",
       "sadness      9765\n",
       "anger        3596\n",
       "Name: label, dtype: int64"
      ]
     },
     "execution_count": 7,
     "metadata": {},
     "output_type": "execute_result"
    }
   ],
   "source": [
    "df.label.value_counts()"
   ]
  },
  {
   "cell_type": "code",
   "execution_count": 8,
   "metadata": {},
   "outputs": [],
   "source": [
    "# define X and y\n",
    "X = df.comment\n",
    "y = df.label"
   ]
  },
  {
   "cell_type": "code",
   "execution_count": 9,
   "metadata": {},
   "outputs": [],
   "source": [
    "from sklearn.model_selection import train_test_split\n",
    "\n",
    "# Splitting the dataset into testing and training:\n",
    "X_train, X_test, y_train, y_test = train_test_split(X, y, test_size=0.30, \n",
    "                                                    random_state=6)"
   ]
  },
  {
   "cell_type": "code",
   "execution_count": 10,
   "metadata": {},
   "outputs": [
    {
     "name": "stdout",
     "output_type": "stream",
     "text": [
      "(229853,)\n",
      "(98509,)\n",
      "(229853,)\n",
      "(98509,)\n"
     ]
    }
   ],
   "source": [
    "# examine the object shapes\n",
    "print(X_train.shape)\n",
    "print(X_test.shape)\n",
    "print(y_train.shape)\n",
    "print(y_test.shape)"
   ]
  },
  {
   "cell_type": "code",
   "execution_count": 11,
   "metadata": {},
   "outputs": [],
   "source": [
    "from sklearn.feature_extraction.text import CountVectorizer\n",
    "vect = CountVectorizer()"
   ]
  },
  {
   "cell_type": "code",
   "execution_count": 12,
   "metadata": {},
   "outputs": [
    {
     "data": {
      "text/plain": [
       "(229853, 312274)"
      ]
     },
     "execution_count": 12,
     "metadata": {},
     "output_type": "execute_result"
    }
   ],
   "source": [
    "# fit and transform X_train into X_train_dtm\n",
    "X_train_dtm = vect.fit_transform(X_train)\n",
    "X_train_dtm.shape"
   ]
  },
  {
   "cell_type": "code",
   "execution_count": 13,
   "metadata": {},
   "outputs": [
    {
     "data": {
      "text/plain": [
       "(98509, 312274)"
      ]
     },
     "execution_count": 13,
     "metadata": {},
     "output_type": "execute_result"
    }
   ],
   "source": [
    "# transform X_test into X_test_dtm\n",
    "X_test_dtm = vect.transform(X_test)\n",
    "X_test_dtm.shape"
   ]
  },
  {
   "cell_type": "code",
   "execution_count": 14,
   "metadata": {},
   "outputs": [
    {
     "data": {
      "text/plain": [
       "(229853, 6)"
      ]
     },
     "execution_count": 14,
     "metadata": {},
     "output_type": "execute_result"
    }
   ],
   "source": [
    "# fit and transform X_train into X_train_dtm\n",
    "y_train_dtm = vect.fit_transform(y_train)\n",
    "y_train_dtm.shape\n"
   ]
  },
  {
   "cell_type": "markdown",
   "metadata": {},
   "source": []
  },
  {
   "cell_type": "code",
   "execution_count": 15,
   "metadata": {},
   "outputs": [
    {
     "name": "stdout",
     "output_type": "stream",
     "text": [
      "Accuracy score adaboost  0.8173364870214904\n"
     ]
    }
   ],
   "source": [
    "#adaboost classifier\n",
    "from sklearn import metrics\n",
    "from sklearn.ensemble import AdaBoostClassifier\n",
    "my_AdaBoost = AdaBoostClassifier(n_estimators = 29,random_state=2)\n",
    "my_AdaBoost.fit(X_train_dtm,y_train)\n",
    "y_predict_prob_ab = my_AdaBoost.predict_proba(X_test_dtm)\n",
    "\n",
    "\n",
    "\n",
    "y_predict_ab = my_AdaBoost.predict(X_test_dtm)\n",
    "score_ab = accuracy_score(y_test, y_predict_ab)\n",
    "print(\"Accuracy score adaboost \",score_ab)"
   ]
  },
  {
   "cell_type": "code",
   "execution_count": 16,
   "metadata": {},
   "outputs": [
    {
     "name": "stdout",
     "output_type": "stream",
     "text": [
      "              precision    recall  f1-score   support\n",
      "\n",
      "       anger       0.81      0.08      0.15      1102\n",
      "        fear       0.97      0.43      0.59     14953\n",
      "       greed       0.79      0.98      0.87     60112\n",
      "     hateful       0.72      0.68      0.70      3034\n",
      "         joy       0.91      0.80      0.85     16402\n",
      "     sadness       0.70      0.07      0.13      2906\n",
      "\n",
      "    accuracy                           0.82     98509\n",
      "   macro avg       0.82      0.51      0.55     98509\n",
      "weighted avg       0.83      0.82      0.79     98509\n",
      "\n",
      "[[   88     4   447   550    12     1]\n",
      " [    3  6372  8432    40    99     7]\n",
      " [    3   130 58696   175  1089    19]\n",
      " [    6     7   929  2059    28     5]\n",
      " [    7    52  3187     9 13088    59]\n",
      " [    1     6  2602    24    61   212]]\n"
     ]
    }
   ],
   "source": [
    "\n",
    "from sklearn.metrics import confusion_matrix, classification_report\n",
    "print(classification_report(y_test, y_predict_ab))\n",
    "cm = confusion_matrix(y_test, y_predict_ab)\n",
    "print(cm)"
   ]
  },
  {
   "cell_type": "code",
   "execution_count": 17,
   "metadata": {},
   "outputs": [
    {
     "name": "stdout",
     "output_type": "stream",
     "text": [
      "Accuracy score xgboost  0.9435990620146383\n"
     ]
    }
   ],
   "source": [
    "#xgboost classifier\n",
    "from xgboost import XGBClassifier\n",
    "my_XGBoost = XGBClassifier(n_estimators = 29,random_state=2)\n",
    "\n",
    "my_XGBoost.fit(X_train_dtm,y_train)\n",
    "y_predict_prob_xg = my_XGBoost.predict_proba(X_test_dtm)\n",
    "\n",
    "\n",
    "\n",
    "y_predict_xg = my_XGBoost.predict(X_test_dtm)\n",
    "score_xg = accuracy_score(y_test, y_predict_xg)\n",
    "print(\"Accuracy score xgboost \",score_xg)"
   ]
  },
  {
   "cell_type": "code",
   "execution_count": 18,
   "metadata": {},
   "outputs": [
    {
     "name": "stdout",
     "output_type": "stream",
     "text": [
      "              precision    recall  f1-score   support\n",
      "\n",
      "       anger       0.59      0.64      0.62      1102\n",
      "        fear       0.94      0.93      0.93     14953\n",
      "       greed       0.97      0.96      0.96     60112\n",
      "     hateful       0.85      0.74      0.79      3034\n",
      "         joy       0.92      0.97      0.94     16402\n",
      "     sadness       0.85      0.84      0.84      2906\n",
      "\n",
      "    accuracy                           0.94     98509\n",
      "   macro avg       0.85      0.85      0.85     98509\n",
      "weighted avg       0.94      0.94      0.94     98509\n",
      "\n",
      "[[  709    13    81   277    18     4]\n",
      " [   13 13904   795    40   143    58]\n",
      " [   36   826 57715    75  1140   320]\n",
      " [  410    31   272  2254    43    24]\n",
      " [   17    41   359    10 15942    33]\n",
      " [   11    47   305    10   104  2429]]\n"
     ]
    }
   ],
   "source": [
    "print(classification_report(y_test, y_predict_xg))\n",
    "cm = confusion_matrix(y_test, y_predict_xg)\n",
    "print(cm)"
   ]
  },
  {
   "cell_type": "code",
   "execution_count": null,
   "metadata": {},
   "outputs": [],
   "source": []
  }
 ],
 "metadata": {
  "kernelspec": {
   "display_name": "Python 3",
   "language": "python",
   "name": "python3"
  },
  "language_info": {
   "codemirror_mode": {
    "name": "ipython",
    "version": 3
   },
   "file_extension": ".py",
   "mimetype": "text/x-python",
   "name": "python",
   "nbconvert_exporter": "python",
   "pygments_lexer": "ipython3",
   "version": "3.7.6"
  }
 },
 "nbformat": 4,
 "nbformat_minor": 4
}
