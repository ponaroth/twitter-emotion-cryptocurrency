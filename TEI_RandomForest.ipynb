{
 "cells": [
  {
   "cell_type": "markdown",
   "metadata": {},
   "source": [
    "# CS4662 \n",
    "## Group Project: Twitter Emotion Identification\n",
    "### Instructor: Dr. Mohammad Pourhomayoun\n",
    "\n",
    "### Julie Kasparian\n",
    "\n",
    "Spring 2020"
   ]
  },
  {
   "cell_type": "code",
   "execution_count": 104,
   "metadata": {},
   "outputs": [],
   "source": [
    "# import modules\n",
    "import json\n",
    "import pandas as pd\n",
    "import numpy as np\n",
    "from sklearn.model_selection import cross_val_score\n",
    "from sklearn.model_selection import train_test_split\n",
    "from sklearn.ensemble import RandomForestClassifier \n",
    "from sklearn.feature_extraction.text import CountVectorizer\n",
    "from sklearn.model_selection import GridSearchCV\n",
    "from sklearn.metrics import accuracy_score\n",
    "from sklearn.metrics import confusion_matrix, classification_report"
   ]
  },
  {
   "cell_type": "code",
   "execution_count": 105,
   "metadata": {},
   "outputs": [
    {
     "data": {
      "text/plain": [
       "('Sad thing is sheep will buy into this POS https://t.co/hpeo1CSC70',\n",
       " 'sadness')"
      ]
     },
     "execution_count": 105,
     "metadata": {},
     "output_type": "execute_result"
    }
   ],
   "source": [
    "json_list = ['anger', 'fear', 'greed', 'hateful', 'joy', 'sadness']\n",
    "\n",
    "all_list = []\n",
    "limit = 10000\n",
    "\n",
    "for name in json_list:\n",
    "    # load json data as a list of strings\n",
    "    with open('/Users/juliekasparian/Desktop/raw_data/'+ name + '.json') as my_file:\n",
    "        myfile = json.load(my_file)\n",
    "        count = 0\n",
    "        \n",
    "        # turn list to a list of tuples and append to all_list (only 10,000 from each list) \n",
    "        for i in myfile:\n",
    "            if count < limit:\n",
    "                all_list.append((i, name))\n",
    "                count = count + 1\n",
    "                \n",
    "            else:\n",
    "                break\n",
    "            \n",
    "all_list[-1]"
   ]
  },
  {
   "cell_type": "code",
   "execution_count": 106,
   "metadata": {},
   "outputs": [
    {
     "data": {
      "text/html": [
       "<div>\n",
       "<style scoped>\n",
       "    .dataframe tbody tr th:only-of-type {\n",
       "        vertical-align: middle;\n",
       "    }\n",
       "\n",
       "    .dataframe tbody tr th {\n",
       "        vertical-align: top;\n",
       "    }\n",
       "\n",
       "    .dataframe thead th {\n",
       "        text-align: right;\n",
       "    }\n",
       "</style>\n",
       "<table border=\"1\" class=\"dataframe\">\n",
       "  <thead>\n",
       "    <tr style=\"text-align: right;\">\n",
       "      <th></th>\n",
       "      <th>comment</th>\n",
       "      <th>label</th>\n",
       "    </tr>\n",
       "  </thead>\n",
       "  <tbody>\n",
       "    <tr>\n",
       "      <td>0</td>\n",
       "      <td>Welcome! We have opened. Short Links Service\\n...</td>\n",
       "      <td>fear</td>\n",
       "    </tr>\n",
       "    <tr>\n",
       "      <td>1</td>\n",
       "      <td>@LloydLlewJ Well my heart says you are a Scumb...</td>\n",
       "      <td>anger</td>\n",
       "    </tr>\n",
       "    <tr>\n",
       "      <td>2</td>\n",
       "      <td>@CryptoCobain Saw this coming! Sucks you gotta...</td>\n",
       "      <td>anger</td>\n",
       "    </tr>\n",
       "    <tr>\n",
       "      <td>3</td>\n",
       "      <td>5 years and Adam silver aint do shit</td>\n",
       "      <td>hateful</td>\n",
       "    </tr>\n",
       "    <tr>\n",
       "      <td>4</td>\n",
       "      <td>Playboi Carti even on da list, get dis shit ou...</td>\n",
       "      <td>hateful</td>\n",
       "    </tr>\n",
       "    <tr>\n",
       "      <td>...</td>\n",
       "      <td>...</td>\n",
       "      <td>...</td>\n",
       "    </tr>\n",
       "    <tr>\n",
       "      <td>53356</td>\n",
       "      <td>RT @zackvoell: Bitcoin Week is a great idea gi...</td>\n",
       "      <td>joy</td>\n",
       "    </tr>\n",
       "    <tr>\n",
       "      <td>53357</td>\n",
       "      <td>Ripple is working to make XRP compliant with a...</td>\n",
       "      <td>anger</td>\n",
       "    </tr>\n",
       "    <tr>\n",
       "      <td>53358</td>\n",
       "      <td>RT @imoforever03: Hats off to every one at #in...</td>\n",
       "      <td>joy</td>\n",
       "    </tr>\n",
       "    <tr>\n",
       "      <td>53359</td>\n",
       "      <td>US Global Investors CEO: Bitcoin is Great But ...</td>\n",
       "      <td>joy</td>\n",
       "    </tr>\n",
       "    <tr>\n",
       "      <td>53360</td>\n",
       "      <td>@Binance $BTC - $USDT\\n#Bitcoin\\nDouble top- A...</td>\n",
       "      <td>fear</td>\n",
       "    </tr>\n",
       "  </tbody>\n",
       "</table>\n",
       "<p>53361 rows × 2 columns</p>\n",
       "</div>"
      ],
      "text/plain": [
       "                                                 comment    label\n",
       "0      Welcome! We have opened. Short Links Service\\n...     fear\n",
       "1      @LloydLlewJ Well my heart says you are a Scumb...    anger\n",
       "2      @CryptoCobain Saw this coming! Sucks you gotta...    anger\n",
       "3                   5 years and Adam silver aint do shit  hateful\n",
       "4      Playboi Carti even on da list, get dis shit ou...  hateful\n",
       "...                                                  ...      ...\n",
       "53356  RT @zackvoell: Bitcoin Week is a great idea gi...      joy\n",
       "53357  Ripple is working to make XRP compliant with a...    anger\n",
       "53358  RT @imoforever03: Hats off to every one at #in...      joy\n",
       "53359  US Global Investors CEO: Bitcoin is Great But ...      joy\n",
       "53360  @Binance $BTC - $USDT\\n#Bitcoin\\nDouble top- A...     fear\n",
       "\n",
       "[53361 rows x 2 columns]"
      ]
     },
     "execution_count": 106,
     "metadata": {},
     "output_type": "execute_result"
    }
   ],
   "source": [
    "# df = pd.DataFrame(np.array(list).reshape(-1,2), columns = [\"comment\", \"emotion\"])\n",
    "df = pd.DataFrame(all_list, columns=['comment', 'label'])\n",
    "\n",
    "# randomize the items inside dataframe\n",
    "df = df.sample(frac=1).reset_index(drop=True)\n",
    "\n",
    "df"
   ]
  },
  {
   "cell_type": "code",
   "execution_count": 107,
   "metadata": {},
   "outputs": [
    {
     "data": {
      "text/plain": [
       "hateful    10000\n",
       "greed      10000\n",
       "joy        10000\n",
       "fear       10000\n",
       "sadness     9765\n",
       "anger       3596\n",
       "Name: label, dtype: int64"
      ]
     },
     "execution_count": 107,
     "metadata": {},
     "output_type": "execute_result"
    }
   ],
   "source": [
    "df.label.value_counts()"
   ]
  },
  {
   "cell_type": "code",
   "execution_count": 108,
   "metadata": {},
   "outputs": [],
   "source": [
    "# define X and y\n",
    "X = df.comment\n",
    "y = df.label"
   ]
  },
  {
   "cell_type": "code",
   "execution_count": 109,
   "metadata": {},
   "outputs": [],
   "source": [
    "# splitting the dataset into testing and training:\n",
    "X_train, X_test, y_train, y_test = train_test_split(X, y, test_size=0.35, random_state=3)"
   ]
  },
  {
   "cell_type": "code",
   "execution_count": 110,
   "metadata": {},
   "outputs": [
    {
     "name": "stdout",
     "output_type": "stream",
     "text": [
      "(34684,)\n",
      "(18677,)\n",
      "(34684,)\n",
      "(18677,)\n"
     ]
    }
   ],
   "source": [
    "# examine the object shapes\n",
    "print(X_train.shape)\n",
    "print(X_test.shape)\n",
    "print(y_train.shape)\n",
    "print(y_test.shape)"
   ]
  },
  {
   "cell_type": "code",
   "execution_count": 111,
   "metadata": {},
   "outputs": [],
   "source": [
    "my_RandomForest = RandomForestClassifier(n_estimators = 90, bootstrap = True, random_state=3)"
   ]
  },
  {
   "cell_type": "code",
   "execution_count": 112,
   "metadata": {},
   "outputs": [],
   "source": [
    "vect = CountVectorizer()"
   ]
  },
  {
   "cell_type": "code",
   "execution_count": 113,
   "metadata": {},
   "outputs": [
    {
     "data": {
      "text/plain": [
       "(34684, 70311)"
      ]
     },
     "execution_count": 113,
     "metadata": {},
     "output_type": "execute_result"
    }
   ],
   "source": [
    "# fit and transform X_train into X_train_dtm\n",
    "X_train_dtm = vect.fit_transform(X_train)\n",
    "X_train_dtm.shape"
   ]
  },
  {
   "cell_type": "code",
   "execution_count": 114,
   "metadata": {},
   "outputs": [
    {
     "data": {
      "text/plain": [
       "(18677, 70311)"
      ]
     },
     "execution_count": 114,
     "metadata": {},
     "output_type": "execute_result"
    }
   ],
   "source": [
    "# transform X_test into X_test_dtm\n",
    "X_test_dtm = vect.transform(X_test)\n",
    "X_test_dtm.shape"
   ]
  },
  {
   "cell_type": "code",
   "execution_count": 115,
   "metadata": {},
   "outputs": [
    {
     "data": {
      "text/plain": [
       "RandomForestClassifier(bootstrap=True, class_weight=None, criterion='gini',\n",
       "                       max_depth=None, max_features='auto', max_leaf_nodes=None,\n",
       "                       min_impurity_decrease=0.0, min_impurity_split=None,\n",
       "                       min_samples_leaf=1, min_samples_split=2,\n",
       "                       min_weight_fraction_leaf=0.0, n_estimators=90,\n",
       "                       n_jobs=None, oob_score=False, random_state=3, verbose=0,\n",
       "                       warm_start=False)"
      ]
     },
     "execution_count": 115,
     "metadata": {},
     "output_type": "execute_result"
    }
   ],
   "source": [
    "# training on the training set:\n",
    "my_RandomForest.fit(X_train_dtm, y_train)"
   ]
  },
  {
   "cell_type": "code",
   "execution_count": 116,
   "metadata": {},
   "outputs": [
    {
     "name": "stdout",
     "output_type": "stream",
     "text": [
      "['greed' 'fear' 'hateful' ... 'greed' 'greed' 'fear']\n"
     ]
    }
   ],
   "source": [
    "# testing on the testing set:\n",
    "y_predict_rf = my_RandomForest.predict(X_test_dtm)\n",
    "\n",
    "print(y_predict_rf)"
   ]
  },
  {
   "cell_type": "code",
   "execution_count": 117,
   "metadata": {},
   "outputs": [
    {
     "name": "stdout",
     "output_type": "stream",
     "text": [
      "Random Forest Accuracy: 0.8876157841195053\n"
     ]
    }
   ],
   "source": [
    "# we can now compare the \"predicted labels\" for the Testing Set with its \"actual labels\" to evaluate the accuracy \n",
    "score_rf = accuracy_score(y_test, y_predict_rf)\n",
    "\n",
    "print('Random Forest Accuracy:', score_rf)"
   ]
  },
  {
   "cell_type": "code",
   "execution_count": 118,
   "metadata": {},
   "outputs": [
    {
     "name": "stdout",
     "output_type": "stream",
     "text": [
      "['greed' 'fear' 'hateful' ... 'greed' 'greed' 'fear']\n",
      "[0.         1.         0.08888889 ... 0.0037037  0.06666667 0.58888889]\n"
     ]
    }
   ],
   "source": [
    "# estimating the probability (likelihood) of Each Label: \n",
    "y_predict_prob_rf = my_RandomForest.predict_proba(X_test_dtm)\n",
    "\n",
    "# this line prints the \"predicted label\" for the testing set:\n",
    "print(y_predict_rf)\n",
    "\n",
    "# this line prints the \"estimated likelihood of label=1\" for the testing set:\n",
    "print(y_predict_prob_rf[:,1])"
   ]
  },
  {
   "cell_type": "code",
   "execution_count": 119,
   "metadata": {},
   "outputs": [
    {
     "name": "stdout",
     "output_type": "stream",
     "text": [
      "              precision    recall  f1-score   support\n",
      "\n",
      "       anger       0.57      0.47      0.51      1294\n",
      "        fear       0.96      0.92      0.94      3464\n",
      "       greed       0.92      0.93      0.92      3485\n",
      "     hateful       0.78      0.84      0.81      3496\n",
      "         joy       0.94      0.96      0.95      3488\n",
      "     sadness       0.95      0.95      0.95      3450\n",
      "\n",
      "    accuracy                           0.89     18677\n",
      "   macro avg       0.85      0.84      0.85     18677\n",
      "weighted avg       0.89      0.89      0.89     18677\n",
      "\n",
      "[[ 608    4   28  628   18    8]\n",
      " [   4 3184  122   81   38   35]\n",
      " [   5   77 3230   38   85   50]\n",
      " [ 440   17   46 2934   23   36]\n",
      " [   6   18   57   25 3357   25]\n",
      " [   9   24   41   76   35 3265]]\n"
     ]
    }
   ],
   "source": [
    "# print classification report\n",
    "print(classification_report(y_test, y_predict_rf))\n",
    "cm = confusion_matrix(y_test, y_predict_rf)\n",
    "print(cm)"
   ]
  },
  {
   "cell_type": "code",
   "execution_count": null,
   "metadata": {},
   "outputs": [],
   "source": []
  }
 ],
 "metadata": {
  "kernelspec": {
   "display_name": "Python 3",
   "language": "python",
   "name": "python3"
  },
  "language_info": {
   "codemirror_mode": {
    "name": "ipython",
    "version": 3
   },
   "file_extension": ".py",
   "mimetype": "text/x-python",
   "name": "python",
   "nbconvert_exporter": "python",
   "pygments_lexer": "ipython3",
   "version": "3.7.6"
  }
 },
 "nbformat": 4,
 "nbformat_minor": 4
}
